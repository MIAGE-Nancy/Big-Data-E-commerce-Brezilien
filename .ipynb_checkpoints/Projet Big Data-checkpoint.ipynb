{
 "cells": [
  {
   "cell_type": "markdown",
   "metadata": {},
   "source": [
    "# Projet Big Data | E-Commerce Brézilien"
   ]
  },
  {
   "cell_type": "markdown",
   "metadata": {},
   "source": [
    "Legris Corentin  \n",
    "M2 ACSI  \n",
    "06/02/19  \n",
    "  \n",
    "**But du projet** : Je souhaite installer une plateforme e-commerce au brésil, quelle stratégie adopter ?  \n",
    "(Choix du produit, localisation...)  \n",
    "\n",
    "Projet réalisé avec spark (2.4.0) sur jupyter notebook, donc en python (pyspark).\n",
    "\n",
    "J'ai choisis spark car je me suis familiarisé avec durant les cours, et je l'ai utilisé avec jupyter notebook, qui est un outil aussi vu en cours, et qui permet d'importer des librairies en fonction des besoins tout en permettant de rééxecuter le code très facilement."
   ]
  },
  {
   "cell_type": "markdown",
   "metadata": {},
   "source": [
    "***\n",
    "### Reflexion\n",
    "La première phase du projet a été d'analyser les différents fichiers csv qu'on nous as donné donnant diverses informations sur le e-commerce au Brésil.\n",
    "\n",
    "On a donc directement analyser les fichiers un par un, en nommant les colonnes qui nous seront importantes pour mettre en place une stratégie.\n",
    "\n",
    "Pas de problème de ce côté là, plusieurs questions en sont resorties telles que :\n",
    "- Quel produit nous favorisons ?\n",
    "- Quel qualité de produit ?\n",
    "- À quel endroit ?\n",
    "- Quel stratégie choisie ?\n",
    "\n",
    "Nous allons donc répondre à ces diverses questions en utilisant spark et des librairies pour la partie graphique."
   ]
  },
  {
   "cell_type": "markdown",
   "metadata": {},
   "source": [
    "***\n",
    "### Où mettre les stocks ? \n",
    "En effet, le choix de la position des stocks est cruciale, plus le stock est proche de nombreux clients, plus on pourra livrer de clients. \n",
    ">L'idée est donc de calculer le nombre de client par zone, afin de déterminer quelles sont les zones les plus \"hot\""
   ]
  },
  {
   "cell_type": "code",
   "execution_count": 20,
   "metadata": {},
   "outputs": [],
   "source": [
    "import sys\n",
    "from pyspark import SparkContext\n",
    "\n",
    "sc = SparkContext.getOrCreate()"
   ]
  },
  {
   "cell_type": "markdown",
   "metadata": {},
   "source": [
    "J'aimerais récupérer seulement les colonnes qui m'intéressent :\n",
    "- Le code postale (customer_zip_code_prefix)\n",
    "- La ville (customer_city)\n",
    "- La région (customer_state)\n",
    "\n",
    "Le client en particulier ne nous intéresse pas, on va additionner les occurences des codes postaux, des villes, des régions pour connaitre le nombre de client pour chacune de ces granularités."
   ]
  },
  {
   "cell_type": "markdown",
   "metadata": {},
   "source": [
    "Je vais commencer par lire le fichier CSV contenant les informations sur les clients, et je vais créé une dataframe à partir de cette lecture. Ensuite je supprime la colonne \"Id\" et la colonne \"Id unique\" qui ne me serve à rien.  \n",
    "  \n",
    "Il est à noter qu'à l'aide du paramètre schema sur la lecture, je renomme directement les différentes colonnes tout en appliquant un type à ceux-ci, visuellement c'est plus parlant.  "
   ]
  },
  {
   "cell_type": "code",
   "execution_count": 21,
   "metadata": {
    "scrolled": true
   },
   "outputs": [
    {
     "name": "stdout",
     "output_type": "stream",
     "text": [
      "+-----------+--------------------+------+\n",
      "|Code postal|               Ville|Region|\n",
      "+-----------+--------------------+------+\n",
      "|      14409|              franca|    SP|\n",
      "|      09790|sao bernardo do c...|    SP|\n",
      "|      01151|           sao paulo|    SP|\n",
      "|      08775|     mogi das cruzes|    SP|\n",
      "|      13056|            campinas|    SP|\n",
      "|      89254|      jaragua do sul|    SC|\n",
      "+-----------+--------------------+------+\n",
      "only showing top 6 rows\n",
      "\n"
     ]
    }
   ],
   "source": [
    "from pyspark.sql.types import StructType, StructField\n",
    "from pyspark.sql.types import DoubleType, IntegerType, StringType\n",
    "\n",
    "colonnes = StructType([\n",
    "    StructField(\"Id\", StringType()),\n",
    "    StructField(\"Id unique\", StringType()),\n",
    "    StructField(\"Code postal\", StringType()),\n",
    "    StructField(\"Ville\", StringType()),\n",
    "    StructField(\"Region\", StringType())\n",
    "])\n",
    "\n",
    "df_clients = spark.read.csv('/Users/COL/Documents/Miage\\ M2/Principe\\ fondamentaux\\ des\\ données/Données/olist_customers_dataset.csv', header=True, schema=colonnes)\n",
    "df_clients = df_clients.drop(\"Id\", \"Id unique\")\n",
    "df_clients.show(6)"
   ]
  },
  {
   "cell_type": "markdown",
   "metadata": {},
   "source": [
    "Maintenant que nous avons seulement les colonnes qui nous intéressent dans une dataframe, on souhaite connaitre le nombre de client pour chacune de ces colonnes."
   ]
  },
  {
   "cell_type": "code",
   "execution_count": 22,
   "metadata": {},
   "outputs": [
    {
     "name": "stdout",
     "output_type": "stream",
     "text": [
      "+-----------+-----+\n",
      "|Code postal|count|\n",
      "+-----------+-----+\n",
      "|      22790|  142|\n",
      "|      24220|  124|\n",
      "|      22793|  121|\n",
      "|      24230|  117|\n",
      "|      22775|  110|\n",
      "|      29101|  101|\n",
      "+-----------+-----+\n",
      "only showing top 6 rows\n",
      "\n"
     ]
    }
   ],
   "source": [
    "from pyspark.sql.functions import desc\n",
    "df_clients_code_postal = df_clients.groupby(\"Code postal\").count().sort(desc(\"count\"))\n",
    "df_clients_code_postal.show(6)"
   ]
  },
  {
   "cell_type": "markdown",
   "metadata": {},
   "source": [
    "Il ne me reste plus qu'à représenter le dataframe sous forme graphique à l'aide d'une librairie (matplotlib.pyplot) afin de pouvoir analyser ces informations"
   ]
  },
  {
   "cell_type": "code",
   "execution_count": 23,
   "metadata": {
    "scrolled": true
   },
   "outputs": [
    {
     "data": {
      "image/png": "[encoded data removed]",
      "text/plain": [
       "<Figure size 432x288 with 1 Axes>"
      ]
     },
     "metadata": {},
     "output_type": "display_data"
    }
   ],
   "source": [
    "import matplotlib.pyplot as plt\n",
    "code_postaux = df_clients_code_postal.select(\"Code postal\").limit(6).collect()\n",
    "nombre_client_code_postal = df_clients_code_postal.select(\"count\").limit(6).collect()\n",
    "couleurs = ['yellowgreen', 'gold', 'lightskyblue', 'lightcoral', 'red', 'green']\n",
    "\n",
    "plt.pie(nombre_client_code_postal, labels=code_postaux, colors=couleurs, \n",
    "        autopct='%1.1f%%', shadow=True, startangle=90)\n",
    "\n",
    "plt.axis('equal')\n",
    "plt.show()"
   ]
  },
  {
   "cell_type": "markdown",
   "metadata": {},
   "source": [
    "Ces données au premier abord sur les codes postaux n'est pas très parlant, j'ai donc fait une recherche pour savoir où ils se situent.\n",
    "- De 20000-000 à 28999-999, ce sont les villes présent dans la region de Rio de Janeiro\n",
    "\n",
    "On remarque ici très facilement que ce sont les codes postaux représentant la region de Rio de Janeiro qui possèdent le plus de client, donc ces code postaux sont une cible, mais ce n'est pas pour autant qu'il faut délaissé les autres localisations puisqu'une seule ville peut être séparée en plusieurs code postaux, donc la somme des clients de ces codes, soit la somme des clients d'une ville par exemple, est un autre indicateur très important, et c'est ce que nous allons voir dès maintenant."
   ]
  },
  {
   "cell_type": "code",
   "execution_count": 24,
   "metadata": {},
   "outputs": [
    {
     "name": "stdout",
     "output_type": "stream",
     "text": [
      "+--------------+-----+\n",
      "|         Ville|count|\n",
      "+--------------+-----+\n",
      "|     sao paulo|15540|\n",
      "|rio de janeiro| 6882|\n",
      "|belo horizonte| 2773|\n",
      "|      brasilia| 2131|\n",
      "|      curitiba| 1521|\n",
      "|      campinas| 1444|\n",
      "+--------------+-----+\n",
      "only showing top 6 rows\n",
      "\n"
     ]
    }
   ],
   "source": [
    "df_clients_ville = df_clients.groupby(\"Ville\").count().sort(desc(\"count\"))\n",
    "df_clients_ville.show(6)"
   ]
  },
  {
   "cell_type": "code",
   "execution_count": 26,
   "metadata": {},
   "outputs": [
    {
     "data": {
      "image/png": "[encoded data removed]",
      "text/plain": [
       "<Figure size 432x288 with 1 Axes>"
      ]
     },
     "metadata": {},
     "output_type": "display_data"
    }
   ],
   "source": [
    "import matplotlib.pyplot as plt\n",
    "villes = df_clients_ville.select(\"Ville\").limit(6).collect()\n",
    "nombre_client_ville = df_clients_ville.select(\"count\").limit(6).collect()\n",
    "couleurs = ['yellowgreen', 'gold', 'lightskyblue', 'lightcoral', 'red', 'green']\n",
    "\n",
    "plt.pie(nombre_client_ville, labels=villes, colors=couleurs, \n",
    "        autopct='%1.1f%%', shadow=True, startangle=90)\n",
    "\n",
    "plt.axis('equal')\n",
    "plt.show()"
   ]
  },
  {
   "cell_type": "markdown",
   "metadata": {},
   "source": [
    "Alors qu'auparavant nous avons remarqué que les code postaux de la region de Rio de Janeiro possèdent le plus de client, on remarque dorénavant que si on souhaite toucher le plus de client, il vaut mieux se rapprocher de la ville de Sao Paulo, qui possède une énorme part des clients. Il est à noté que la ville de Rio de Jeniro possède néanmoins beaucoup de clients aussi. Vu que nous possédons l'information sur la region, il est intéressant de voir la répartition sur ceux-ci, même si vu le graphique précédent, il est clair que la ville de sao paulo et de rio de janeiro vont peser dans la balance."
   ]
  },
  {
   "cell_type": "code",
   "execution_count": 24,
   "metadata": {},
   "outputs": [
    {
     "name": "stdout",
     "output_type": "stream",
     "text": [
      "+------+-----+\n",
      "|Region|count|\n",
      "+------+-----+\n",
      "|    SP|41746|\n",
      "|    RJ|12852|\n",
      "|    MG|11635|\n",
      "|    RS| 5466|\n",
      "|    PR| 5045|\n",
      "|    SC| 3637|\n",
      "+------+-----+\n",
      "only showing top 6 rows\n",
      "\n"
     ]
    }
   ],
   "source": [
    "df_clients_region = df_clients.groupby(\"Region\").count().sort(desc(\"count\"))\n",
    "df_clients_region.show(6)"
   ]
  },
  {
   "cell_type": "code",
   "execution_count": 25,
   "metadata": {
    "scrolled": true
   },
   "outputs": [
    {
     "data": {
      "image/png": "[encoded data removed]",
      "text/plain": [
       "<Figure size 432x288 with 1 Axes>"
      ]
     },
     "metadata": {},
     "output_type": "display_data"
    }
   ],
   "source": [
    "import matplotlib.pyplot as plt\n",
    "regions = df_clients_region.select(\"Region\").limit(6).collect()\n",
    "nombre_client_region = df_clients_region.select(\"count\").limit(6).collect()\n",
    "couleurs = ['yellowgreen', 'gold', 'lightskyblue', 'lightcoral', 'red', 'green']\n",
    "\n",
    "plt.pie(nombre_client_region, labels=regions, colors=couleurs, \n",
    "        autopct='%1.1f%%', shadow=True, startangle=90)\n",
    "\n",
    "plt.axis('equal')\n",
    "plt.show()"
   ]
  },
  {
   "cell_type": "markdown",
   "metadata": {},
   "source": [
    "Sans surprise, la region de Sao Paulo est la region qui possède le plus de client, avec par la suite celle de Rio de Janeiro. Il est à noté que la région Minas Gerais possède aussi un nombre certains de clients, du probablement à la somme des clients de plusieurs villes possèdant un nombre correcte de client."
   ]
  },
  {
   "cell_type": "markdown",
   "metadata": {},
   "source": [
    "#### Conclusion : \n",
    "Pour choisir stratégiquement où placer le stock, il va falloir prendre une décision en fonction du budget que l'on a (prix du loyer pour le stockage), et de la quantité de clients. Si on ne peut pas livrer sur de long trajet, il est préférable de se positionner à côté de zone possédant de grande quantité de clients, comme certains codes postaux de la region de rio de janeiro. Sinon, si on peut livrer sur de long trajet, se positionner sur la region de Sao Paulo est une bonne solution, car elle possède une énorme parti des clients. Si le loyer est trop chère dans ces deux cas, la region de Minas Gerais est une bonne solution, car son nombre de clients n'est pas négligeable, et est beaucoup moins connu que les deux autres. "
   ]
  },
  {
   "cell_type": "markdown",
   "metadata": {},
   "source": [
    "***\n",
    "### Une localisation plus précise\n",
    "On a grâce à l'analyse précédente une vague idée de où se positionner. La region de Sao Paulo et est celle qui possède le plus de clients, ainsi que la ville de Sao Paulo. Au premier abord, il serait donc une bonne idée de s'y installer, mais on ne sait pas précisément où.\n",
    "\n",
    "On possède un fichier csv contenant les géolocalisations par rapport à un code postal. Et un client est rattaché à un code postal, donc il est possible de relié les clients à ces géolocalisations.  \n",
    "  \n",
    "Je ne peux pas représenter tous les clients sur une carte, ça serait beaucoup trop long, mais il est possible d'y appliquer l'algorithme des k-means qui fonctionne sur le principe des clusters.\n",
    "\n",
    "Sans rentrer dans le détail, au lieu de représenter l'ensemble des clients sur une carte, nous allons représenter des localisations qui seront le centre de groupes qui eux contiennent un ensemble de clients possédant des similarités, et ces groupes seront formés à l'aide de cet algorithme.\n",
    "\n",
    "Donc chacunes des localisations qui seront représentées est une localisation qui contient un ensemble de client tout autour de celui-ci."
   ]
  },
  {
   "cell_type": "markdown",
   "metadata": {},
   "source": [
    "  \n",
    "Pour commencer, je vais donc simplement créér les dataframes dont j'ai besoin (geolocalisation et client) pour ensuite les reliées entre eux et pour finalement n'avoir que les latitudes et longitudes de chacun des clients.\n",
    "\n",
    "Un problème au départ était que lorsque je faisais la jointure entre les clients et la géolocalisation, je possédais un nombre immense de données. C'était due au dataframe de la geolocalisation, qui contient pour un même code postal des latitudes et longitudes différentes. Pour éviter ce problème, j'ai supprimé les duplications sur le code postal, donc cela revient à dire que je suppose que lorsque deux clients se situent dans un même code postal, ils se situent à la même position."
   ]
  },
  {
   "cell_type": "code",
   "execution_count": 2,
   "metadata": {},
   "outputs": [
    {
     "name": "stdout",
     "output_type": "stream",
     "text": [
      "+----------+----------+\n",
      "|  Latitude| Longitude|\n",
      "+----------+----------+\n",
      "|-23.510427| -46.60118|\n",
      "|-23.510427| -46.60118|\n",
      "|-23.510427| -46.60118|\n",
      "|-23.510427| -46.60118|\n",
      "|-23.510427| -46.60118|\n",
      "|-23.510427| -46.60118|\n",
      "|-23.510427| -46.60118|\n",
      "|-23.510427| -46.60118|\n",
      "| -23.47649|-46.724968|\n",
      "| -23.47649|-46.724968|\n",
      "|-23.544317|-46.538773|\n",
      "|-23.536623| -46.52901|\n",
      "|-23.536623| -46.52901|\n",
      "|-23.536623| -46.52901|\n",
      "| -23.57776| -46.51762|\n",
      "| -23.57776| -46.51762|\n",
      "| -23.64743|-46.636955|\n",
      "|-23.677742|-46.668648|\n",
      "|-23.677742|-46.668648|\n",
      "|-23.677742|-46.668648|\n",
      "+----------+----------+\n",
      "only showing top 20 rows\n",
      "\n"
     ]
    }
   ],
   "source": [
    "import folium\n",
    "import pandas as pd\n",
    "from pyspark.sql.types import StructType, StructField\n",
    "from pyspark.sql.types import DoubleType, IntegerType, StringType, FloatType\n",
    "\n",
    "colonnes = StructType([\n",
    "    StructField(\"Code Postal\", StringType()),\n",
    "    StructField(\"Latitude\", FloatType()),\n",
    "    StructField(\"Longitude\", FloatType())\n",
    "])\n",
    "\n",
    "df_geolocalisation = spark.read.csv('/Users/COL/Documents/Miage\\ M2/Principe\\ fondamentaux\\ des\\ données/Données/olist_geolocation_dataset.csv', header=True, schema=colonnes)\n",
    "df_geolocalisation = df_geolocalisation.drop_duplicates([\"Code Postal\"])\n",
    "\n",
    "\n",
    "colonnes = StructType([\n",
    "    StructField(\"Id\", StringType()),\n",
    "    StructField(\"Id unique\", StringType()),\n",
    "    StructField(\"Code Postal\", StringType()),\n",
    "    StructField(\"Ville\", StringType()),\n",
    "    StructField(\"Region\", StringType())\n",
    "])\n",
    "\n",
    "df_clients = spark.read.csv('/Users/COL/Documents/Miage\\ M2/Principe\\ fondamentaux\\ des\\ données/Données/olist_customers_dataset.csv', header=True, schema=colonnes)\n",
    "df_clients = df_clients.drop(\"Id\", \"Id unique\")\n",
    "\n",
    "\n",
    "df_clients_geolocalisation = df_clients.join(df_geolocalisation, \"Code Postal\")\n",
    "df_clients_geolocalisation = df_clients_geolocalisation.drop(\"Code Postal\", \"Ville\", \"Region\")\n",
    "df_clients_geolocalisation.show()"
   ]
  },
  {
   "cell_type": "markdown",
   "metadata": {},
   "source": [
    "Après avoir ma dataframe avec une Latitude et une Longitude, j'importe toute les libraires dont je vais avoir besoin pour réaliser l'algorithme."
   ]
  },
  {
   "cell_type": "code",
   "execution_count": 3,
   "metadata": {},
   "outputs": [],
   "source": [
    "from __future__ import print_function\n",
    "\n",
    "import numpy as np\n",
    "import pandas as pd\n",
    "import matplotlib.pyplot as plt\n",
    "from mpl_toolkits.mplot3d import Axes3D\n",
    "from sklearn.datasets.samples_generator import make_blobs\n",
    "from pyspark import SparkContext\n",
    "from pyspark.ml.clustering import KMeans\n",
    "from pyspark.ml.feature import VectorAssembler\n",
    "from pyspark.sql import SQLContext"
   ]
  },
  {
   "cell_type": "code",
   "execution_count": 4,
   "metadata": {},
   "outputs": [],
   "source": [
    "FEATURES_COL = ['Latitude', 'Longitude']\n",
    "df_clients_geolocalisation.na.drop = df_clients_geolocalisation.na.drop"
   ]
  },
  {
   "cell_type": "markdown",
   "metadata": {},
   "source": [
    "Pour que je puisse ensuite réaliser l'algorithme, il est nécessaire de regrouper les colonnes Latitude et Longitude entre elle, avec un exemple courant dans une colonne nommée features."
   ]
  },
  {
   "cell_type": "code",
   "execution_count": 5,
   "metadata": {},
   "outputs": [
    {
     "name": "stdout",
     "output_type": "stream",
     "text": [
      "+--------------------+\n",
      "|            features|\n",
      "+--------------------+\n",
      "|[-23.510427474975...|\n",
      "|[-23.510427474975...|\n",
      "|[-23.510427474975...|\n",
      "|[-23.510427474975...|\n",
      "|[-23.510427474975...|\n",
      "|[-23.510427474975...|\n",
      "|[-23.510427474975...|\n",
      "|[-23.510427474975...|\n",
      "|[-23.476490020751...|\n",
      "|[-23.476490020751...|\n",
      "|[-23.544317245483...|\n",
      "|[-23.536623001098...|\n",
      "|[-23.536623001098...|\n",
      "|[-23.536623001098...|\n",
      "|[-23.577760696411...|\n",
      "|[-23.577760696411...|\n",
      "|[-23.647430419921...|\n",
      "|[-23.677742004394...|\n",
      "|[-23.677742004394...|\n",
      "|[-23.677742004394...|\n",
      "+--------------------+\n",
      "only showing top 20 rows\n",
      "\n"
     ]
    }
   ],
   "source": [
    "vecAssembler = VectorAssembler(inputCols=FEATURES_COL, outputCol=\"features\")\n",
    "df_kmeans = vecAssembler.transform(df_clients_geolocalisation).select('features')\n",
    "df_kmeans.show()"
   ]
  },
  {
   "cell_type": "markdown",
   "metadata": {},
   "source": [
    "C'est la partie la plus longue de l'algorithme, celle du choix du nombre de cluster. Une méthode utilisée souvent est de lancer l'algorithme avec différentes valeurs de K, et reproduire une courbe qui réprésente le degré de séparation entre les clusters en fonction de K. Généralement on souhaite une séparation distincte, en essayant d'avoir k le plus petit possible."
   ]
  },
  {
   "cell_type": "code",
   "execution_count": 9,
   "metadata": {},
   "outputs": [
    {
     "data": {
      "text/plain": [
       "Text(0, 0.5, 'cost')"
      ]
     },
     "execution_count": 9,
     "metadata": {},
     "output_type": "execute_result"
    },
    {
     "data": {
      "image/png": "[encoded data removed]",
      "text/plain": [
       "<Figure size 576x432 with 1 Axes>"
      ]
     },
     "metadata": {
      "needs_background": "light"
     },
     "output_type": "display_data"
    }
   ],
   "source": [
    "cost = np.zeros(20)\n",
    "for k in range(2,20):\n",
    "    kmeans = KMeans().setK(k).setSeed(1).setFeaturesCol(\"features\")\n",
    "    model = kmeans.fit(df_kmeans.sample(False,0.1, seed=42))\n",
    "    cost[k] = model.computeCost(df_kmeans)\n",
    "\n",
    "fig, ax = plt.subplots(1,1, figsize =(8,6))\n",
    "ax.plot(range(2,20),cost[2:20])\n",
    "ax.set_xlabel('k')\n",
    "ax.set_ylabel('cost')"
   ]
  },
  {
   "cell_type": "markdown",
   "metadata": {},
   "source": [
    "Même si pour moi le coût n'est pas très explicite, je peux néanmoins en déduire de cette courbe que lorsque k atteint la valeur 12, la séparation est claire entre les clusters, et c'est exactement ce que je cherche.\n",
    "\n",
    "Je peux donc ensuire réalisé l'algorithme avec k clusters, donc ici 12, et calculer le centre de ces clusters, ce qui nous intéresse pour la map."
   ]
  },
  {
   "cell_type": "code",
   "execution_count": 6,
   "metadata": {},
   "outputs": [
    {
     "name": "stdout",
     "output_type": "stream",
     "text": [
      "Cluster Centers: \n",
      "[-23.39573981 -46.67779541]\n",
      "[ -6.67640557 -36.73872358]\n",
      "[ -3.37521701 -46.50154581]\n",
      "[-17.25112813 -55.11695126]\n",
      "[-19.31783053 -41.39568888]\n",
      "[-21.23721215 -49.11888868]\n",
      "[-21.90062964 -43.48949855]\n",
      "[ -7.38507463 -62.03660727]\n",
      "[-12.60682304 -39.0807548 ]\n",
      "[-15.9654008  -48.16857284]\n",
      "[-29.56272391 -51.89524786]\n",
      "[-25.71894332 -50.20709673]\n"
     ]
    }
   ],
   "source": [
    "k = 12\n",
    "kmeans = KMeans().setK(k).setSeed(1).setFeaturesCol(\"features\")\n",
    "model = kmeans.fit(df_kmeans)\n",
    "centers = model.clusterCenters()\n",
    "\n",
    "print(\"Cluster Centers: \")\n",
    "for center in centers:\n",
    "    print(center)"
   ]
  },
  {
   "cell_type": "markdown",
   "metadata": {},
   "source": [
    "Une fois que j'ai le centre de mes 12 clusters, je vais donc les représenters sur une map."
   ]
  },
  {
   "cell_type": "code",
   "execution_count": 7,
   "metadata": {
    "scrolled": true
   },
   "outputs": [
    {
     "data": {
      "text/html": [
       "<div style=\"width:100%;\"><div style=\"position:relative;width:100%;height:0;padding-bottom:60%;\"><iframe src=\"data:text/html;charset=utf-8;base64,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\" style=\"position:absolute;width:100%;height:100%;left:0;top:0;border:none !important;\" allowfullscreen webkitallowfullscreen mozallowfullscreen></iframe></div></div>"
      ],
      "text/plain": [
       "<folium.folium.Map at 0x1a270ae8d0>"
      ]
     },
     "execution_count": 7,
     "metadata": {},
     "output_type": "execute_result"
    }
   ],
   "source": [
    "m = folium.Map(location=[-23, -46], zoom_start=5)\n",
    "\n",
    "\n",
    "for index, valeur in enumerate(centers):\n",
    "    folium.Circle(\n",
    "        location=centers[index],\n",
    "        radius=60000,\n",
    "        color='#3186cc',\n",
    "        fill=True,\n",
    "        fill_color='#3186cc'\n",
    "    ).add_to(m)\n",
    "\n",
    "m"
   ]
  },
  {
   "cell_type": "markdown",
   "metadata": {},
   "source": [
    "Grâce à cette map, et le centre des clusters, on a donc une représentation très précise de l'endroit où on devrait chercher à se situer, si on veut un maximum de clients autour. Mais pour ajouter une précision à cette map, il serait intéressant de modifier la tailles des cercles en fonction du nombre de clients dans chaque cluster. Et pour cela, on peut utiliser la prediction, qui pour chaque géolocalisation donne une prediction sur le cluster dans lequel elle devrait faire partie."
   ]
  },
  {
   "cell_type": "code",
   "execution_count": 8,
   "metadata": {
    "scrolled": false
   },
   "outputs": [
    {
     "name": "stdout",
     "output_type": "stream",
     "text": [
      "+--------------------+----------+\n",
      "|            features|prediction|\n",
      "+--------------------+----------+\n",
      "|[-23.510427474975...|         0|\n",
      "|[-23.510427474975...|         0|\n",
      "|[-23.510427474975...|         0|\n",
      "|[-23.510427474975...|         0|\n",
      "|[-23.510427474975...|         0|\n",
      "|[-23.510427474975...|         0|\n",
      "|[-23.510427474975...|         0|\n",
      "|[-23.510427474975...|         0|\n",
      "|[-23.476490020751...|         0|\n",
      "|[-23.476490020751...|         0|\n",
      "|[-23.544317245483...|         0|\n",
      "|[-23.536623001098...|         0|\n",
      "|[-23.536623001098...|         0|\n",
      "|[-23.536623001098...|         0|\n",
      "|[-23.577760696411...|         0|\n",
      "|[-23.577760696411...|         0|\n",
      "|[-23.647430419921...|         0|\n",
      "|[-23.677742004394...|         0|\n",
      "|[-23.677742004394...|         0|\n",
      "|[-23.677742004394...|         0|\n",
      "+--------------------+----------+\n",
      "only showing top 20 rows\n",
      "\n"
     ]
    }
   ],
   "source": [
    "transformed = model.transform(df_kmeans)\n",
    "transformed.show()"
   ]
  },
  {
   "cell_type": "markdown",
   "metadata": {},
   "source": [
    "Par exemple, ici on voit les 20 premières géolocalisations (clients) qui devraient faire partie du cluster 0.\n",
    "Je vais donc récupérer le nombre de client pour chaque cluster."
   ]
  },
  {
   "cell_type": "code",
   "execution_count": 9,
   "metadata": {},
   "outputs": [],
   "source": [
    "from pyspark.sql.functions import *\n",
    "tab_nombre_client = []\n",
    "tab_nombre_client.append(transformed.where(col(\"prediction\")==\"0\").count())\n",
    "tab_nombre_client.append(transformed.where(col(\"prediction\")==\"1\").count())\n",
    "tab_nombre_client.append(transformed.where(col(\"prediction\")==\"2\").count())\n",
    "tab_nombre_client.append(transformed.where(col(\"prediction\")==\"3\").count())\n",
    "tab_nombre_client.append(transformed.where(col(\"prediction\")==\"4\").count())\n",
    "tab_nombre_client.append(transformed.where(col(\"prediction\")==\"5\").count())\n",
    "tab_nombre_client.append(transformed.where(col(\"prediction\")==\"6\").count())\n",
    "tab_nombre_client.append(transformed.where(col(\"prediction\")==\"7\").count())\n",
    "tab_nombre_client.append(transformed.where(col(\"prediction\")==\"8\").count())\n",
    "tab_nombre_client.append(transformed.where(col(\"prediction\")==\"9\").count())\n",
    "tab_nombre_client.append(transformed.where(col(\"prediction\")==\"10\").count())\n",
    "tab_nombre_client.append(transformed.where(col(\"prediction\")==\"11\").count())\n",
    "tab_nombre_client.append(transformed.where(col(\"prediction\")==\"12\").count())"
   ]
  },
  {
   "cell_type": "markdown",
   "metadata": {},
   "source": [
    "Il ne me reste plus qu'à afficher la map, en faisant varier le rayon de chaque cercle en fonction du nombre de client."
   ]
  },
  {
   "cell_type": "code",
   "execution_count": 10,
   "metadata": {},
   "outputs": [
    {
     "data": {
      "text/html": [
       "<div style=\"width:100%;\"><div style=\"position:relative;width:100%;height:0;padding-bottom:60%;\"><iframe src=\"data:text/html;charset=utf-8;base64,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\" style=\"position:absolute;width:100%;height:100%;left:0;top:0;border:none !important;\" allowfullscreen webkitallowfullscreen mozallowfullscreen></iframe></div></div>"
      ],
      "text/plain": [
       "<folium.folium.Map at 0x1a270dd160>"
      ]
     },
     "execution_count": 10,
     "metadata": {},
     "output_type": "execute_result"
    }
   ],
   "source": [
    "m = folium.Map(location=[-23, -46], zoom_start=5)\n",
    "\n",
    "\n",
    "for index, valeur in enumerate(centers):\n",
    "    folium.Circle(\n",
    "        location=centers[index],\n",
    "        radius=10 * tab_nombre_client[index] / 2,\n",
    "        color='#3186cc',\n",
    "        fill=True,\n",
    "        fill_color='#3186cc'\n",
    "    ).add_to(m)\n",
    "\n",
    "m"
   ]
  },
  {
   "cell_type": "markdown",
   "metadata": {},
   "source": [
    "On a donc une géolocalisation précise des différents endroits que l'on devrait choisir pour toucher un maximum de clients. Et la map réaffirme ce qu'on avait dit précedemment, que la ville de Sao Paulo possède le plus de clients avec ensuite Rio de janeiro. Donc si on suit uniquement le nombre de clients, il est clair que privilégier la ville de Sao Paulo est une bonne stratégie."
   ]
  },
  {
   "cell_type": "markdown",
   "metadata": {},
   "source": [
    "***\n",
    "### Vers quels produits se tourner ? "
   ]
  },
  {
   "cell_type": "markdown",
   "metadata": {},
   "source": [
    "Si on souhaite obtenir un maximum de clients, il est nécessaire de cibler des produits qui se vendent très bien (en terme de quantité, et de prix). \n",
    ">L'idée est donc de calculer le nombre de produits et la somme générée pour chacunes des catégories de produit"
   ]
  },
  {
   "cell_type": "code",
   "execution_count": 27,
   "metadata": {},
   "outputs": [],
   "source": [
    "import sys\n",
    "from pyspark import SparkContext\n",
    "\n",
    "sc = SparkContext.getOrCreate()"
   ]
  },
  {
   "cell_type": "markdown",
   "metadata": {},
   "source": [
    "J'aimerais récupérer seulement les colonnes qui m'intéressent :\n",
    "- Le produit (product_id)\n",
    "- Le prix (price)\n",
    "\n",
    "On va donc pouvoir addition les occurences des produits, et le prix total généré par chacun des produits, on va donc pouvoir déterminer les produits qui se vendent le plus, et ceux qui génèrent le plus d'argent."
   ]
  },
  {
   "cell_type": "code",
   "execution_count": 28,
   "metadata": {},
   "outputs": [
    {
     "name": "stdout",
     "output_type": "stream",
     "text": [
      "+--------------------+-----+\n",
      "|       Id du produit| Prix|\n",
      "+--------------------+-----+\n",
      "|4244733e06e7ecb49...| 58.9|\n",
      "|e5f2d52b802189ee6...|239.9|\n",
      "|c777355d18b72b67a...|199.0|\n",
      "|7634da152a4610f15...|12.99|\n",
      "|ac6c3623068f30de0...|199.9|\n",
      "|ef92defde845ab845...| 21.9|\n",
      "+--------------------+-----+\n",
      "only showing top 6 rows\n",
      "\n"
     ]
    }
   ],
   "source": [
    "from pyspark.sql.types import StructType, StructField\n",
    "from pyspark.sql.types import DoubleType, IntegerType, StringType\n",
    "\n",
    "colonnes = StructType([\n",
    "    StructField(\"Id de la commande\", StringType()),\n",
    "    StructField(\"Numéro de produit\", StringType()),\n",
    "    StructField(\"Id du produit\", StringType()),\n",
    "    StructField(\"Id du vendeur\", StringType()),\n",
    "    StructField(\"Date stock\", StringType()),\n",
    "    StructField(\"Prix\", DoubleType()),\n",
    "    StructField(\"Cout de transport\", StringType())\n",
    "])\n",
    "\n",
    "df_produits = spark.read.csv('/Users/COL/Documents/Miage\\ M2/Principe\\ fondamentaux\\ des\\ données/Données/olist_order_items_dataset.csv', header=True, schema=colonnes)\n",
    "df_produits = df_produits.drop(\"Id de la commande\", \"Numéro de produit\", \"Id du vendeur\", \"Date stock\", \"Cout de transport\")\n",
    "df_produits.show(6)"
   ]
  },
  {
   "cell_type": "markdown",
   "metadata": {},
   "source": [
    "Maintenant que nous avons seulement les colonnes qui nous intéressent dans une dataframe, on souhaite connaitre le nombre de produits."
   ]
  },
  {
   "cell_type": "code",
   "execution_count": 29,
   "metadata": {},
   "outputs": [
    {
     "name": "stdout",
     "output_type": "stream",
     "text": [
      "+--------------------+-----+\n",
      "|       Id du produit|count|\n",
      "+--------------------+-----+\n",
      "|aca2eb7d00ea1a7b8...|  527|\n",
      "|99a4788cb24856965...|  488|\n",
      "|422879e10f4668299...|  484|\n",
      "|389d119b48cf3043d...|  392|\n",
      "|368c6c730842d7801...|  388|\n",
      "|53759a2ecddad2bb8...|  373|\n",
      "+--------------------+-----+\n",
      "only showing top 6 rows\n",
      "\n"
     ]
    }
   ],
   "source": [
    "from pyspark.sql.functions import desc\n",
    "df_produits_nombre = df_produits.groupby(\"Id du produit\").count().sort(desc(\"count\"))\n",
    "df_produits_nombre.show(6)"
   ]
  },
  {
   "cell_type": "markdown",
   "metadata": {},
   "source": [
    "Dans cette dataframe on possède donc les produits qui se vendent le plus en terme de quantité.\n",
    "Il serait intéressant maintenant de connaitre la somme d'argent générée totale par chacun des produits."
   ]
  },
  {
   "cell_type": "code",
   "execution_count": 30,
   "metadata": {},
   "outputs": [
    {
     "name": "stdout",
     "output_type": "stream",
     "text": [
      "+--------------------+------------------+\n",
      "|       Id du produit|         sum(prix)|\n",
      "+--------------------+------------------+\n",
      "|bb50f2e236e5eea01...|           63885.0|\n",
      "|6cdd53843498f9289...|54730.199999999975|\n",
      "|d6160fb7873f18409...|          48899.34|\n",
      "|d1c427060a0f73f6b...| 47214.50999999997|\n",
      "|99a4788cb24856965...| 43025.55999999991|\n",
      "|3dd2a17168ec895c7...| 41082.59999999995|\n",
      "+--------------------+------------------+\n",
      "only showing top 6 rows\n",
      "\n"
     ]
    }
   ],
   "source": [
    "from pyspark.sql.types import IntegerType\n",
    "df_produits_prix = df_produits.groupby(\"Id du produit\").sum(\"prix\").orderBy(\"sum(prix)\",ascending=False)\n",
    "df_produits_prix.show(6)"
   ]
  },
  {
   "cell_type": "markdown",
   "metadata": {},
   "source": [
    "Je vais maintenant relié ces deux dataframes."
   ]
  },
  {
   "cell_type": "code",
   "execution_count": 32,
   "metadata": {},
   "outputs": [
    {
     "name": "stdout",
     "output_type": "stream",
     "text": [
      "+--------------------+-----+------------------+\n",
      "|       Id du produit|count|         sum(prix)|\n",
      "+--------------------+-----+------------------+\n",
      "|bb50f2e236e5eea01...|  195|           63885.0|\n",
      "|6cdd53843498f9289...|  156|54730.199999999975|\n",
      "|d6160fb7873f18409...|   35|          48899.34|\n",
      "|d1c427060a0f73f6b...|  343| 47214.50999999997|\n",
      "|99a4788cb24856965...|  488| 43025.55999999991|\n",
      "|3dd2a17168ec895c7...|  274| 41082.59999999995|\n",
      "+--------------------+-----+------------------+\n",
      "only showing top 6 rows\n",
      "\n"
     ]
    }
   ],
   "source": [
    "df_produits_nombre_prix = df_produits_nombre.join(df_produits_prix, \"Id du produit\")\n",
    "df_produits_nombre_prix.show(6)"
   ]
  },
  {
   "cell_type": "markdown",
   "metadata": {},
   "source": [
    "On remarque déjà que ce ne sont pas les produits vendus en plus grandes quantitées qui ont généré le plus d'argent. L'Id du produit ne nous parle pas trop, pour faire une analyse complète, nous allons utilisés les données provenant de products, qui vont donner une information sur la catégorie du produit."
   ]
  },
  {
   "cell_type": "code",
   "execution_count": 33,
   "metadata": {},
   "outputs": [
    {
     "name": "stdout",
     "output_type": "stream",
     "text": [
      "+--------------------+------------------------------+\n",
      "|       Id du produit|Nom de la categorie du produit|\n",
      "+--------------------+------------------------------+\n",
      "|1e9e8ef04dbcff454...|                    perfumaria|\n",
      "|3aa071139cb16b67c...|                         artes|\n",
      "|96bd76ec8810374ed...|                 esporte_lazer|\n",
      "|cef67bcfe19066a93...|                         bebes|\n",
      "|9dc1a7de274444849...|          utilidades_domest...|\n",
      "|41d3672d4792049fa...|          instrumentos_musi...|\n",
      "+--------------------+------------------------------+\n",
      "only showing top 6 rows\n",
      "\n"
     ]
    }
   ],
   "source": [
    "from pyspark.sql.types import StructType, StructField\n",
    "from pyspark.sql.types import DoubleType, IntegerType, StringType\n",
    "\n",
    "colonnes = StructType([\n",
    "    StructField(\"Id du produit\", StringType()),\n",
    "    StructField(\"Nom de la categorie du produit\", StringType())\n",
    "])\n",
    "\n",
    "df_produits_information = spark.read.csv('/Users/COL/Documents/Miage\\ M2/Principe\\ fondamentaux\\ des\\ données/Données/olist_products_dataset.csv', header=True, schema=colonnes)\n",
    "df_produits_information.show(6)"
   ]
  },
  {
   "cell_type": "markdown",
   "metadata": {},
   "source": [
    "Le nom de nous parlant pas trop, car non traduit, nous allons utiliser les données provenant de product_category_name_translation, qui fournit le nom des différentes catégories en anglais."
   ]
  },
  {
   "cell_type": "code",
   "execution_count": 35,
   "metadata": {},
   "outputs": [
    {
     "name": "stdout",
     "output_type": "stream",
     "text": [
      "+-----------------------------------------+--------------------+\n",
      "|Nom de la categorie du produit en anglais|       Id du produit|\n",
      "+-----------------------------------------+--------------------+\n",
      "|                                perfumery|1e9e8ef04dbcff454...|\n",
      "|                                      art|3aa071139cb16b67c...|\n",
      "|                           sports_leisure|96bd76ec8810374ed...|\n",
      "|                                     baby|cef67bcfe19066a93...|\n",
      "|                               housewares|9dc1a7de274444849...|\n",
      "|                      musical_instruments|41d3672d4792049fa...|\n",
      "+-----------------------------------------+--------------------+\n",
      "only showing top 6 rows\n",
      "\n"
     ]
    }
   ],
   "source": [
    "from pyspark.sql.types import StructType, StructField\n",
    "from pyspark.sql.types import DoubleType, IntegerType, StringType\n",
    "\n",
    "colonnes = StructType([\n",
    "    StructField(\"Nom de la categorie du produit\", StringType()),\n",
    "    StructField(\"Nom de la categorie du produit en anglais\", StringType())\n",
    "])\n",
    "\n",
    "df_categories_produit = spark.read.csv('/Users/COL/Documents/Miage\\ M2/Principe\\ fondamentaux\\ des\\ données/Données/product_category_name_translation.csv', header=True, schema=colonnes)\n",
    "df_produits_information_anglais = df_categories_produit.join(df_produits_information, \"Nom de la categorie du produit\")\n",
    "df_produits_information_anglais = df_produits_information_anglais.drop(\"Nom de la categorie du produit\")\n",
    "df_produits_information_anglais.show(6)\n"
   ]
  },
  {
   "cell_type": "markdown",
   "metadata": {},
   "source": [
    "Il ne nous reste plus qu'à faire le lien avec df_produits_nombre_prix."
   ]
  },
  {
   "cell_type": "code",
   "execution_count": 36,
   "metadata": {},
   "outputs": [
    {
     "name": "stdout",
     "output_type": "stream",
     "text": [
      "+--------------------+-----+------------------+-----------------------------------------+\n",
      "|       Id du produit|count|         sum(prix)|Nom de la categorie du produit en anglais|\n",
      "+--------------------+-----+------------------+-----------------------------------------+\n",
      "|bb50f2e236e5eea01...|  195|           63885.0|                            health_beauty|\n",
      "|6cdd53843498f9289...|  156|54730.199999999975|                            health_beauty|\n",
      "|d6160fb7873f18409...|   35|          48899.34|                                computers|\n",
      "|d1c427060a0f73f6b...|  343| 47214.50999999997|                     computers_accesso...|\n",
      "|99a4788cb24856965...|  488| 43025.55999999991|                           bed_bath_table|\n",
      "|3dd2a17168ec895c7...|  274| 41082.59999999995|                     computers_accesso...|\n",
      "+--------------------+-----+------------------+-----------------------------------------+\n",
      "only showing top 6 rows\n",
      "\n"
     ]
    }
   ],
   "source": [
    "df_produits_finale = df_produits_nombre_prix.join(df_produits_information_anglais, \"Id du produit\").orderBy(\"sum(prix)\",ascending=False)\n",
    "df_produits_finale.show(6)"
   ]
  },
  {
   "cell_type": "code",
   "execution_count": 37,
   "metadata": {},
   "outputs": [
    {
     "data": {
      "image/png": "[encoded data removed]",
      "text/plain": [
       "<Figure size 432x288 with 1 Axes>"
      ]
     },
     "metadata": {},
     "output_type": "display_data"
    }
   ],
   "source": [
    "import matplotlib.pyplot as plt\n",
    "categories = df_produits_finale.select(\"Nom de la categorie du produit en anglais\").limit(6).collect()\n",
    "somme_argent = df_produits_finale.select(\"sum(prix)\").limit(6).collect()\n",
    "couleurs = ['yellowgreen', 'gold', 'lightskyblue', 'lightcoral', 'red', 'green']\n",
    "\n",
    "plt.pie(somme_argent, labels=categories, colors=couleurs, \n",
    "        autopct='%1.1f%%', shadow=True, startangle=90)\n",
    "\n",
    "plt.axis('equal')\n",
    "plt.show()"
   ]
  },
  {
   "cell_type": "markdown",
   "metadata": {},
   "source": [
    "On peut donc visualiser les catégories de produits qui génèrent le plus d'argent. On remarque néanmoins qu'il y a des catégories en doublon, on va donc effectuer un traitement supplémentaire permettant de les regroupers."
   ]
  },
  {
   "cell_type": "code",
   "execution_count": 47,
   "metadata": {},
   "outputs": [
    {
     "name": "stdout",
     "output_type": "stream",
     "text": [
      "+-----------------------------------------+------------------+\n",
      "|Nom de la categorie du produit en anglais|    sum(sum(prix))|\n",
      "+-----------------------------------------+------------------+\n",
      "|                            health_beauty|1258681.3399999992|\n",
      "|                            watches_gifts| 1205005.679999998|\n",
      "|                           bed_bath_table|1036988.6799999995|\n",
      "|                           sports_leisure| 988048.9700000003|\n",
      "|                     computers_accesso...| 911954.3200000002|\n",
      "|                          furniture_decor| 729762.4900000001|\n",
      "+-----------------------------------------+------------------+\n",
      "only showing top 6 rows\n",
      "\n"
     ]
    }
   ],
   "source": [
    "df_produits_finale_sans_doublon_prix = df_produits_finale.groupBy(\"Nom de la categorie du produit en anglais\").sum(\"sum(prix)\").orderBy(\"sum(sum(prix))\",ascending=False)\n",
    "df_produits_finale_sans_doublon_prix.show(6)"
   ]
  },
  {
   "cell_type": "code",
   "execution_count": 48,
   "metadata": {},
   "outputs": [
    {
     "name": "stdout",
     "output_type": "stream",
     "text": [
      "+-----------------------------------------+----------+\n",
      "|Nom de la categorie du produit en anglais|sum(count)|\n",
      "+-----------------------------------------+----------+\n",
      "|                           bed_bath_table|     11115|\n",
      "|                            health_beauty|      9670|\n",
      "|                           sports_leisure|      8641|\n",
      "|                          furniture_decor|      8334|\n",
      "|                     computers_accesso...|      7827|\n",
      "|                               housewares|      6964|\n",
      "+-----------------------------------------+----------+\n",
      "only showing top 6 rows\n",
      "\n"
     ]
    }
   ],
   "source": [
    "df_produits_finale_sans_doublon_count = df_produits_finale.groupBy(\"Nom de la categorie du produit en anglais\").sum(\"count\").orderBy(\"sum(count)\",ascending=False)\n",
    "df_produits_finale_sans_doublon_count.show(6)"
   ]
  },
  {
   "cell_type": "code",
   "execution_count": 41,
   "metadata": {},
   "outputs": [
    {
     "data": {
      "image/png": "[encoded data removed]",
      "text/plain": [
       "<Figure size 432x288 with 1 Axes>"
      ]
     },
     "metadata": {},
     "output_type": "display_data"
    }
   ],
   "source": [
    "import matplotlib.pyplot as plt\n",
    "categories = df_produits_finale_sans_doublon_prix.select(\"Nom de la categorie du produit en anglais\").limit(6).collect()\n",
    "somme_argent = df_produits_finale_sans_doublon_prix.select(\"sum(sum(prix))\").limit(6).collect()\n",
    "couleurs = ['yellowgreen', 'gold', 'lightskyblue', 'lightcoral', 'red', 'green']\n",
    "\n",
    "plt.pie(somme_argent, labels=categories, colors=couleurs, \n",
    "        autopct='%1.1f%%', shadow=True, startangle=90)\n",
    "\n",
    "plt.axis('equal')\n",
    "plt.show()"
   ]
  },
  {
   "cell_type": "markdown",
   "metadata": {},
   "source": [
    "Le fait d'avoir regrouper les catégories entre elle est inévitable, car si on fait la comparaison avec le schéma précedent, la categorie watches_gifts n'apparaissait même pas. "
   ]
  },
  {
   "cell_type": "markdown",
   "metadata": {},
   "source": [
    "#### Conclusion : \n",
    "Il est évident que privilégier les produits de santé-beautés semble être une bonne idée vu la propotion de cette catégorie niveau prix, de la même manière que la catégorie objets de décoration qui est très présente, et achetée en très grande quantité. Malheureusement on n'en sait pas plus sur le produit (par exemple si c'est le coussin qui est le plus vendu...)"
   ]
  },
  {
   "cell_type": "markdown",
   "metadata": {},
   "source": [
    "***\n",
    "### Quels moyens de paiement proposer ? \n",
    "Il est très important sur notre site de proposer les moyens de paiement les plus utilisers, afin de ne rater aucun client. \n",
    ">L'idée est donc de calculer les moyens de paiement les plus utilisés"
   ]
  },
  {
   "cell_type": "code",
   "execution_count": 50,
   "metadata": {},
   "outputs": [],
   "source": [
    "import sys\n",
    "from pyspark import SparkContext\n",
    "\n",
    "sc = SparkContext.getOrCreate()"
   ]
  },
  {
   "cell_type": "markdown",
   "metadata": {},
   "source": [
    "J'aimerais récupérer seulement la colonne qui m'intéresse :\n",
    "- Le type de paiement (payment_type)\n",
    "\n",
    "On va donc pouvoir addition les occurences des moyens de paiement, on va donc pouvoir déterminer les moyens de paiement qui sont le plus utilisés."
   ]
  },
  {
   "cell_type": "code",
   "execution_count": 51,
   "metadata": {},
   "outputs": [
    {
     "name": "stdout",
     "output_type": "stream",
     "text": [
      "+-----------------+\n",
      "|Moyen de paiement|\n",
      "+-----------------+\n",
      "|      credit_card|\n",
      "|      credit_card|\n",
      "|      credit_card|\n",
      "|      credit_card|\n",
      "|      credit_card|\n",
      "|      credit_card|\n",
      "+-----------------+\n",
      "only showing top 6 rows\n",
      "\n"
     ]
    }
   ],
   "source": [
    "from pyspark.sql.types import StructType, StructField\n",
    "from pyspark.sql.types import DoubleType, IntegerType, StringType\n",
    "\n",
    "colonnes = StructType([\n",
    "    StructField(\"Numéro de commande\", StringType()),\n",
    "    StructField(\"Numéro de moyens de paiement\", StringType()),\n",
    "    StructField(\"Moyen de paiement\", StringType())\n",
    "])\n",
    "\n",
    "df_moyen_paiement = spark.read.csv('/Users/COL/Documents/Miage\\ M2/Principe\\ fondamentaux\\ des\\ données/Données/olist_order_payments_dataset.csv', header=True, schema=colonnes)\n",
    "df_moyen_paiement = df_moyen_paiement.drop(\"Numéro de commande\", \"Numéro de moyens de paiement\")\n",
    "df_moyen_paiement.show(6)"
   ]
  },
  {
   "cell_type": "code",
   "execution_count": 52,
   "metadata": {},
   "outputs": [
    {
     "name": "stdout",
     "output_type": "stream",
     "text": [
      "+-----------------+------+\n",
      "|Moyen de paiement|Nombre|\n",
      "+-----------------+------+\n",
      "|      credit_card| 76795|\n",
      "|           boleto| 19784|\n",
      "|          voucher|  5775|\n",
      "|       debit_card|  1529|\n",
      "|      not_defined|     3|\n",
      "+-----------------+------+\n",
      "\n"
     ]
    }
   ],
   "source": [
    "from pyspark.sql.functions import *\n",
    "df_moyen_paiement = df_moyen_paiement.groupBy(\"Moyen de paiement\").count().sort(desc(\"count\"))\n",
    "df_moyen_paiement = df_moyen_paiement.select(col(\"Moyen de paiement\"), col(\"count\").alias(\"Nombre\"))\n",
    "df_moyen_paiement.show()"
   ]
  },
  {
   "cell_type": "markdown",
   "metadata": {},
   "source": [
    "On remarque donc très facilement que c'est la carte de crédit qui est le plus utilisé, ce qui n'est pas étonnant.\n",
    "  \n",
    "On va représenter cette information à l'aide d'un graphique, à l'aide de la librarie pandas."
   ]
  },
  {
   "cell_type": "code",
   "execution_count": 55,
   "metadata": {},
   "outputs": [
    {
     "data": {
      "text/plain": [
       "<matplotlib.axes._subplots.AxesSubplot at 0x1a1d01b4a8>"
      ]
     },
     "execution_count": 55,
     "metadata": {},
     "output_type": "execute_result"
    },
    {
     "data": {
      "image/png": "[encoded data removed]",
      "text/plain": [
       "<Figure size 432x288 with 1 Axes>"
      ]
     },
     "metadata": {
      "needs_background": "light"
     },
     "output_type": "display_data"
    }
   ],
   "source": [
    "import pandas as pd\n",
    "tab_occurence_moyen_paiement = [int(row.Nombre) for row in df_moyen_paiement.select(\"Nombre\").collect()]\n",
    "pd_moyen_paiement_panda = pd.DataFrame({'Nombre': tab_occurence_moyen_paiement},\n",
    "                                    index=df_moyen_paiement.select(\"Moyen de paiement\").collect())\n",
    "pd_moyen_paiement_panda.plot.bar()"
   ]
  },
  {
   "cell_type": "markdown",
   "metadata": {},
   "source": [
    "On remarque très facilement que c'est la carte de crédit qui est le moyen de paiement le plus utilisé, avec le chèque. Nous allons donc privilégier ces deux moyens de paiement pour toucher un maximum de client."
   ]
  },
  {
   "cell_type": "markdown",
   "metadata": {},
   "source": [
    "#### Conclusion : \n",
    "Pour cette analyse, nous avons choisis de privilégier deux moyens de paiement à intégrer sur le site grâce à leur popularité. Néanmoins il serait possible aussi de déterminer les moyens de paiement qui incluent souvent de payer en plusieurs fois, ce qui nous permettrait de gagner de l'argent sur les intérêts (paiement en 8 fois...).\n",
    "Cela permettrait aussi de rassurer le client sur la possibilité d'acheter le produit."
   ]
  },
  {
   "cell_type": "markdown",
   "metadata": {},
   "source": [
    "***\n",
    "### Faire face à la concurrence ? \n",
    "Même si nous avons une idée des catégories de produit à privilégier, il est important de savoir si la concurrence n'est pas trop importante, pour cela on peut vérifier par exemple si leurs produits n'ont pas une bonne image.\n",
    ">L'idée est donc de calculer la moyenne des notes pour chaque catégorie de produits"
   ]
  },
  {
   "cell_type": "code",
   "execution_count": 50,
   "metadata": {},
   "outputs": [],
   "source": [
    "import sys\n",
    "from pyspark import SparkContext\n",
    "\n",
    "sc = SparkContext.getOrCreate()"
   ]
  },
  {
   "cell_type": "markdown",
   "metadata": {},
   "source": [
    "J'aimerais récupérer seulement la colonne qui m'intéresse :\n",
    "- L'id de la commande (order_id)\n",
    "- La note (review_score)\n",
    "\n",
    "On va donc pouvoir recevoir la note de chaque commande. Il est à noté que malheureusement la note représente une note commune pour chacun des produits dedans, donc il ne représente pas forcément la qualité d'un des produits, mais vu que majoritairement les commandes possèdent une seul produit, ou que généralement on commande des produits de la même catégorie en même temps, il nous parait quand même pertinent de réalisé ce test."
   ]
  },
  {
   "cell_type": "code",
   "execution_count": 51,
   "metadata": {},
   "outputs": [
    {
     "name": "stdout",
     "output_type": "stream",
     "text": [
      "+--------------------+----+\n",
      "|  Numéro de commande|Note|\n",
      "+--------------------+----+\n",
      "|73fc7af87114b3971...|   4|\n",
      "|a548910a1c6147796...|   5|\n",
      "|f9e4b658b201a9f2e...|   5|\n",
      "|658677c97b385a9be...|   5|\n",
      "|8e6bfb81e283fa7e4...|   5|\n",
      "|b18dcdf73be663668...|   1|\n",
      "+--------------------+----+\n",
      "only showing top 6 rows\n",
      "\n"
     ]
    }
   ],
   "source": [
    "from pyspark.sql.types import StructType, StructField\n",
    "from pyspark.sql.types import DoubleType, IntegerType, StringType\n",
    "\n",
    "colonnes = StructType([\n",
    "    StructField(\"Numéro de revue\", StringType()),\n",
    "    StructField(\"Numéro de commande\", StringType()),\n",
    "    StructField(\"Note\", IntegerType())\n",
    "])\n",
    "\n",
    "df_notes = spark.read.csv('/Users/COL/Documents/Miage\\ M2/Principe\\ fondamentaux\\ des\\ données/Données/olist_order_reviews_dataset.csv', header=True, schema=colonnes)\n",
    "df_notes = df_notes.drop(\"Numéro de revue\")\n",
    "df_notes.show(6)"
   ]
  },
  {
   "cell_type": "markdown",
   "metadata": {},
   "source": [
    "On possède donc le dataframe associant une note à une commande.  \n",
    "Il faut maintenant que je récupère les produits associés à cette note."
   ]
  },
  {
   "cell_type": "code",
   "execution_count": 52,
   "metadata": {},
   "outputs": [
    {
     "name": "stdout",
     "output_type": "stream",
     "text": [
      "+--------------------+----+-----------------+--------------------+\n",
      "|  Numéro de commande|Note|Numéro de produit|       Id du produit|\n",
      "+--------------------+----+-----------------+--------------------+\n",
      "|73fc7af87114b3971...|   4|                2|fd25ab760bfbba13c...|\n",
      "|73fc7af87114b3971...|   4|                1|fd25ab760bfbba13c...|\n",
      "|a548910a1c6147796...|   5|                1|be0dbdc3d67d55727...|\n",
      "|f9e4b658b201a9f2e...|   5|                1|d1c427060a0f73f6b...|\n",
      "|658677c97b385a9be...|   5|                1|52c80cedd4e90108b...|\n",
      "|8e6bfb81e283fa7e4...|   5|                1|3880d25d502b15b1d...|\n",
      "+--------------------+----+-----------------+--------------------+\n",
      "only showing top 6 rows\n",
      "\n"
     ]
    }
   ],
   "source": [
    "colonnes = StructType([\n",
    "    StructField(\"Numéro de commande\", StringType()),\n",
    "    StructField(\"Numéro de produit\", StringType()),\n",
    "    StructField(\"Id du produit\", StringType()),\n",
    "    StructField(\"Id du vendeur\", StringType()),\n",
    "    StructField(\"Date stock\", StringType()),\n",
    "    StructField(\"Prix\", DoubleType()),\n",
    "    StructField(\"Cout de transport\", StringType())\n",
    "])\n",
    "\n",
    "df_produits = spark.read.csv('/Users/COL/Documents/Miage\\ M2/Principe\\ fondamentaux\\ des\\ données/Données/olist_order_items_dataset.csv', header=True, schema=colonnes)\n",
    "df_notes = df_notes.join(df_produits, \"Numéro de commande\")\n",
    "df_notes = df_notes.drop(\"Id du vendeur\", \"Date stock\", \"Prix\", \"Cout de transport\")\n",
    "df_notes.show(6)"
   ]
  },
  {
   "cell_type": "markdown",
   "metadata": {},
   "source": [
    "Pour chaque numéro de commande, on a la note associée, ainsi que le produit."
   ]
  },
  {
   "cell_type": "markdown",
   "metadata": {},
   "source": [
    "Il ne nous reste plus qu'à récupérer la catégorie de chaque produit."
   ]
  },
  {
   "cell_type": "code",
   "execution_count": 53,
   "metadata": {},
   "outputs": [
    {
     "name": "stdout",
     "output_type": "stream",
     "text": [
      "+--------------------+--------------------+----+-----------------+-----------------------------------------+\n",
      "|       Id du produit|  Numéro de commande|Note|Numéro de produit|Nom de la categorie du produit en anglais|\n",
      "+--------------------+--------------------+----+-----------------+-----------------------------------------+\n",
      "|fd25ab760bfbba13c...|73fc7af87114b3971...|   4|                2|                           sports_leisure|\n",
      "|fd25ab760bfbba13c...|73fc7af87114b3971...|   4|                1|                           sports_leisure|\n",
      "|be0dbdc3d67d55727...|a548910a1c6147796...|   5|                1|                     computers_accesso...|\n",
      "|d1c427060a0f73f6b...|f9e4b658b201a9f2e...|   5|                1|                     computers_accesso...|\n",
      "|52c80cedd4e90108b...|658677c97b385a9be...|   5|                1|                             garden_tools|\n",
      "|3880d25d502b15b1d...|8e6bfb81e283fa7e4...|   5|                1|                           sports_leisure|\n",
      "+--------------------+--------------------+----+-----------------+-----------------------------------------+\n",
      "only showing top 6 rows\n",
      "\n"
     ]
    }
   ],
   "source": [
    "from pyspark.sql.types import StructType, StructField\n",
    "from pyspark.sql.types import DoubleType, IntegerType, StringType\n",
    "\n",
    "colonnes = StructType([\n",
    "    StructField(\"Id du produit\", StringType()),\n",
    "    StructField(\"Nom de la categorie du produit\", StringType())\n",
    "])\n",
    "\n",
    "df_produits_information = spark.read.csv('/Users/COL/Documents/Miage\\ M2/Principe\\ fondamentaux\\ des\\ données/Données/olist_products_dataset.csv', header=True, schema=colonnes)\n",
    "df_notes = df_notes.join(df_produits_information, \"Id du produit\")\n",
    "\n",
    "colonnes = StructType([\n",
    "    StructField(\"Nom de la categorie du produit\", StringType()),\n",
    "    StructField(\"Nom de la categorie du produit en anglais\", StringType())\n",
    "])\n",
    "\n",
    "df_categories_produit = spark.read.csv('/Users/COL/Documents/Miage\\ M2/Principe\\ fondamentaux\\ des\\ données/Données/product_category_name_translation.csv', header=True, schema=colonnes)\n",
    "df_notes = df_notes.join(df_categories_produit, \"Nom de la categorie du produit\")\n",
    "df_notes = df_notes.drop(\"Nom de la categorie du produit\")\n",
    "\n",
    "df_notes.show(6)"
   ]
  },
  {
   "cell_type": "markdown",
   "metadata": {},
   "source": [
    "J'ai donc maintenant une note associée à des produits, qui eux-même sont associé à une catégorie de produit. Je vais maintenant faire une moyenne de la note pour chaque catégorie."
   ]
  },
  {
   "cell_type": "code",
   "execution_count": 55,
   "metadata": {},
   "outputs": [
    {
     "name": "stdout",
     "output_type": "stream",
     "text": [
      "+-----------------------------------------+-----------------+\n",
      "|Nom de la categorie du produit en anglais|        avg(Note)|\n",
      "+-----------------------------------------+-----------------+\n",
      "|                        cds_dvds_musicals|4.642857142857143|\n",
      "|                     fashion_childrens...|              4.5|\n",
      "|                     books_general_int...|4.439421338155515|\n",
      "|                           books_imported|              4.4|\n",
      "|                     costruction_tools...|4.359223300970874|\n",
      "|                          books_technical|4.338289962825279|\n",
      "+-----------------------------------------+-----------------+\n",
      "only showing top 6 rows\n",
      "\n"
     ]
    }
   ],
   "source": [
    "from pyspark.sql.functions import desc\n",
    "df_notes_avg = df_notes.groupBy(\"Nom de la categorie du produit en anglais\").avg(\"Note\").sort(desc(\"avg(Note)\"))\n",
    "df_notes_avg.show(6)"
   ]
  },
  {
   "cell_type": "markdown",
   "metadata": {},
   "source": [
    "J'ai donc une moyenne des notes en fonction des différentes catégories. Les deux catégories qui nous intéressent sont \"health_beauty\" et \"bed_bath_table\" (vu précedemment)."
   ]
  },
  {
   "cell_type": "code",
   "execution_count": 61,
   "metadata": {},
   "outputs": [
    {
     "name": "stdout",
     "output_type": "stream",
     "text": [
      "+-----------------------------------------+-----------------+\n",
      "|Nom de la categorie du produit en anglais|        avg(Note)|\n",
      "+-----------------------------------------+-----------------+\n",
      "|                            health_beauty|4.124280427631579|\n",
      "+-----------------------------------------+-----------------+\n",
      "\n"
     ]
    }
   ],
   "source": [
    "from pyspark.sql.functions import *\n",
    "df_notes_avg_health_beauty = df_notes_avg.where(col(\"Nom de la categorie du produit en anglais\")==\"health_beauty\")\n",
    "df_notes_avg_health_beauty.show()"
   ]
  },
  {
   "cell_type": "code",
   "execution_count": 62,
   "metadata": {},
   "outputs": [
    {
     "name": "stdout",
     "output_type": "stream",
     "text": [
      "+-----------------------------------------+-----------------+\n",
      "|Nom de la categorie du produit en anglais|        avg(Note)|\n",
      "+-----------------------------------------+-----------------+\n",
      "|                           bed_bath_table|3.871185237757275|\n",
      "+-----------------------------------------+-----------------+\n",
      "\n"
     ]
    }
   ],
   "source": [
    "from pyspark.sql.functions import *\n",
    "df_notes_avg_health_beauty = df_notes_avg.where(col(\"Nom de la categorie du produit en anglais\")==\"bed_bath_table\")\n",
    "df_notes_avg_health_beauty.show()"
   ]
  },
  {
   "cell_type": "markdown",
   "metadata": {},
   "source": [
    "On remarque donc que les produits provenant des deux catégories ont plutôt une bonne image, donc la concurrence est forte, il va être difficile de se faire une place parmis les produits de qualités déjà présent, mais ce n'est pas impossible."
   ]
  },
  {
   "cell_type": "markdown",
   "metadata": {},
   "source": [
    "#### Conclusion : \n",
    "Les deux catégories de produits choisis ont plutôt une bonne moyenne de note (au dessus de la moyenne), mais ce n'est pas étonnant vu qu'ils font partis des meilleurs catégories de produits qui se vendent. Si on souhaite s'intégrer au marché, il va falloir proposer des produits de meilleurs qualités, ou de même qualité, mais on va pouvoir aussi s'intégrer en proposant des produits différents de ce qui se fait dans ces catégories."
   ]
  },
  {
   "cell_type": "markdown",
   "metadata": {},
   "source": [
    "***\n",
    "### Et la localisation de la concurrence ? \n",
    "On a estimé la localisation que l'on pourrait choisir pour notre stock, mais on peut comparé notre choix avec celui des concurrents, et sécuriser notre choix.\n",
    ">L'idée est donc de calculer le nombre de vendeurs par zone, pour analyser leur stratégie"
   ]
  },
  {
   "cell_type": "code",
   "execution_count": 65,
   "metadata": {},
   "outputs": [],
   "source": [
    "import sys\n",
    "from pyspark import SparkContext\n",
    "\n",
    "sc = SparkContext.getOrCreate()"
   ]
  },
  {
   "cell_type": "markdown",
   "metadata": {},
   "source": [
    "J'aimerais récupérer seulement les colonnes qui m'intéressent :\n",
    "- Le code postal du vendeur (seller_zip_code_prefix)\n",
    "- La ville du vendeur (seller_city)\n",
    "- La région du vendeur (seller_state)\n",
    "\n",
    "De la même manière que pour les clients, on va additionner les occurences des codes postaux, des villes, des régions pour connaitre le nombre de vendeurs pour chacune de ces granularités."
   ]
  },
  {
   "cell_type": "code",
   "execution_count": 67,
   "metadata": {},
   "outputs": [
    {
     "name": "stdout",
     "output_type": "stream",
     "text": [
      "+-----------+-----------------+------+\n",
      "|Code postal|            Ville|Region|\n",
      "+-----------+-----------------+------+\n",
      "|      13023|         campinas|    SP|\n",
      "|      13844|       mogi guacu|    SP|\n",
      "|      20031|   rio de janeiro|    RJ|\n",
      "|      04195|        sao paulo|    SP|\n",
      "|      12914|braganca paulista|    SP|\n",
      "|      20920|   rio de janeiro|    RJ|\n",
      "+-----------+-----------------+------+\n",
      "only showing top 6 rows\n",
      "\n"
     ]
    }
   ],
   "source": [
    "from pyspark.sql.types import StructType, StructField\n",
    "from pyspark.sql.types import DoubleType, IntegerType, StringType\n",
    "\n",
    "colonnes = StructType([\n",
    "    StructField(\"Id du vendeur\", StringType()),\n",
    "    StructField(\"Code postal\", StringType()),\n",
    "    StructField(\"Ville\", StringType()),\n",
    "    StructField(\"Region\", StringType())\n",
    "])\n",
    "\n",
    "df_vendeurs = spark.read.csv('/Users/COL/Documents/Miage\\ M2/Principe\\ fondamentaux\\ des\\ données/Données/olist_sellers_dataset.csv', header=True, schema=colonnes)\n",
    "df_vendeurs = df_vendeurs.drop(\"Id du vendeur\")\n",
    "df_vendeurs.show(6)"
   ]
  },
  {
   "cell_type": "markdown",
   "metadata": {},
   "source": [
    "Maintenant que nous avons seulement les colonnes qui nous intéressent dans une dataframe, on souhaite connaitre le nombre de vendeurs pour chacune de ces colonnes."
   ]
  },
  {
   "cell_type": "code",
   "execution_count": 68,
   "metadata": {},
   "outputs": [
    {
     "name": "stdout",
     "output_type": "stream",
     "text": [
      "+-----------+-----+\n",
      "|Code postal|count|\n",
      "+-----------+-----+\n",
      "|      14940|   49|\n",
      "|      13660|   10|\n",
      "|      13920|    9|\n",
      "|      16200|    9|\n",
      "|      01026|    8|\n",
      "|      14020|    8|\n",
      "+-----------+-----+\n",
      "only showing top 6 rows\n",
      "\n"
     ]
    }
   ],
   "source": [
    "from pyspark.sql.functions import desc\n",
    "df_vendeurs_code_postal = df_vendeurs.groupby(\"Code postal\").count().sort(desc(\"count\"))\n",
    "df_vendeurs_code_postal.show(6)"
   ]
  },
  {
   "cell_type": "code",
   "execution_count": 70,
   "metadata": {},
   "outputs": [
    {
     "data": {
      "image/png": "[encoded data removed]",
      "text/plain": [
       "<Figure size 432x288 with 1 Axes>"
      ]
     },
     "metadata": {},
     "output_type": "display_data"
    }
   ],
   "source": [
    "import matplotlib.pyplot as plt\n",
    "code_postaux = df_vendeurs_code_postal.select(\"Code postal\").limit(6).collect()\n",
    "nombre_vendeurs_code_postal = df_vendeurs_code_postal.select(\"count\").limit(6).collect()\n",
    "couleurs = ['yellowgreen', 'gold', 'lightskyblue', 'lightcoral', 'red', 'green']\n",
    "\n",
    "plt.pie(nombre_client_code_postal, labels=code_postaux, colors=couleurs, \n",
    "        autopct='%1.1f%%', shadow=True, startangle=90)\n",
    "\n",
    "plt.axis('equal')\n",
    "plt.show()"
   ]
  },
  {
   "cell_type": "markdown",
   "metadata": {},
   "source": [
    "Il y a énormément de vendeurs situé dans le code postal **14940**. C'est le code postal de Ibitinga, ville provenant de la region de Sao Paulo. Ce choix est compréhensible, car au finale la grande partie des clients se situent dans la region de Sao Paulo."
   ]
  },
  {
   "cell_type": "code",
   "execution_count": 71,
   "metadata": {},
   "outputs": [
    {
     "name": "stdout",
     "output_type": "stream",
     "text": [
      "+--------------+-----+\n",
      "|         Ville|count|\n",
      "+--------------+-----+\n",
      "|     sao paulo|  694|\n",
      "|      curitiba|  127|\n",
      "|rio de janeiro|   96|\n",
      "|belo horizonte|   68|\n",
      "|ribeirao preto|   52|\n",
      "|     guarulhos|   50|\n",
      "+--------------+-----+\n",
      "only showing top 6 rows\n",
      "\n"
     ]
    }
   ],
   "source": [
    "df_vendeurs_ville = df_vendeurs.groupby(\"Ville\").count().sort(desc(\"count\"))\n",
    "df_vendeurs_ville.show(6)"
   ]
  },
  {
   "cell_type": "code",
   "execution_count": 73,
   "metadata": {},
   "outputs": [
    {
     "data": {
      "image/png": "[encoded data removed]",
      "text/plain": [
       "<Figure size 432x288 with 1 Axes>"
      ]
     },
     "metadata": {},
     "output_type": "display_data"
    }
   ],
   "source": [
    "import matplotlib.pyplot as plt\n",
    "villes = df_vendeurs_ville.select(\"Ville\").limit(6).collect()\n",
    "nombre_vendeurs_ville = df_vendeurs_ville.select(\"count\").limit(6).collect()\n",
    "couleurs = ['yellowgreen', 'gold', 'lightskyblue', 'lightcoral', 'red', 'green']\n",
    "\n",
    "plt.pie(nombre_vendeurs_ville, labels=villes, colors=couleurs, \n",
    "        autopct='%1.1f%%', shadow=True, startangle=90)\n",
    "\n",
    "plt.axis('equal')\n",
    "plt.show()"
   ]
  },
  {
   "cell_type": "markdown",
   "metadata": {},
   "source": [
    "Ce graphique ne propose toujours pas un résultat inattendu, la ville de Sao Paulo est celle qui comprend le plus de vendeurs. Il est quand même à noter que très peu de vendeurs sont présent dans la ville de rio de janeiro, alors que pourtant il y a un nombre assez important de clients situés las-bas."
   ]
  },
  {
   "cell_type": "code",
   "execution_count": 74,
   "metadata": {},
   "outputs": [
    {
     "name": "stdout",
     "output_type": "stream",
     "text": [
      "+------+-----+\n",
      "|Region|count|\n",
      "+------+-----+\n",
      "|    SP| 1849|\n",
      "|    PR|  349|\n",
      "|    MG|  244|\n",
      "|    SC|  190|\n",
      "|    RJ|  171|\n",
      "|    RS|  129|\n",
      "+------+-----+\n",
      "only showing top 6 rows\n",
      "\n"
     ]
    }
   ],
   "source": [
    "df_vendeurs_region = df_vendeurs.groupby(\"Region\").count().sort(desc(\"count\"))\n",
    "df_vendeurs_region.show(6)"
   ]
  },
  {
   "cell_type": "code",
   "execution_count": 75,
   "metadata": {},
   "outputs": [
    {
     "data": {
      "image/png": "[encoded data removed]",
      "text/plain": [
       "<Figure size 432x288 with 1 Axes>"
      ]
     },
     "metadata": {},
     "output_type": "display_data"
    }
   ],
   "source": [
    "import matplotlib.pyplot as plt\n",
    "regions = df_vendeurs_region.select(\"Region\").limit(6).collect()\n",
    "nombre_vendeurs_region = df_vendeurs_region.select(\"count\").limit(6).collect()\n",
    "couleurs = ['yellowgreen', 'gold', 'lightskyblue', 'lightcoral', 'red', 'green']\n",
    "\n",
    "plt.pie(nombre_vendeurs_region, labels=regions, colors=couleurs, \n",
    "        autopct='%1.1f%%', shadow=True, startangle=90)\n",
    "\n",
    "plt.axis('equal')\n",
    "plt.show()"
   ]
  },
  {
   "cell_type": "markdown",
   "metadata": {},
   "source": [
    "La region de Sao Paulo est la plus représentée en terme de vendeurs, comme vu précedemment. Rio de Janeiro est quand à elle très peut représentée. "
   ]
  },
  {
   "cell_type": "markdown",
   "metadata": {},
   "source": [
    "#### Conclusion : \n",
    "La stratégie de localisation choisie par les vendeurs suit plutôt bien notre première idée, il y a de nombreux clients dans cette zone, mais justement cela pose peut-être un problème de concurrence ? Il est possible pour nous de nous localiser vers la region de Sao Paulo, qui comporte aussi de nombreux clients, et surtout qui semblent être délaissé par les autres vendeurs."
   ]
  },
  {
   "cell_type": "markdown",
   "metadata": {},
   "source": [
    "# Conclusion Projet Big Data | E-Commerce Brézilien"
   ]
  },
  {
   "cell_type": "markdown",
   "metadata": {},
   "source": [
    "Le projet a été très intéressant côté spark et côté python a réalisé. On a pu découvrir la puissance de spark, de comment on pouvait facilement manipuler les données avec, et le côté python qui a permis sans logiciel comme Tableau de pouvoir avoir des rendus graphique (la map par exemple).\n",
    "\n",
    "L'idée pour moi dans ce projet était surtout de manipuler ces deux technologies, de découvrir des choses, c'est d'ailleurs pour cela que je n'ai pas utiliser Tableau pour des rendus graphique par exemple. Et je trouve aussi que de pouvoir avoir des rendus graphique sans un autre logiciel est une bonne pratique.\n",
    "\n",
    "Le bémol du projet se porte sur le côté analyse de la stratégie. C'était très intéressant de voir avec mes collègues économistes les indicateurs qui allaient déterminer notre stratégie pour mettre en place notre e-commerce, mais vu qu'il n'y a pas eu de suivi ensuite, ce n'était pas évident de choisir par exemple si il vallait mieux par exemple privilégier les produits qui se vendent bien, ou au contraire privilégier les produits qui se vendent mal pour les mettres en valeur et créer une nouvelle tendance.\n",
    "\n",
    "Parmis les indicateurs qui ont été analysés, je considère que c'est les plus importants pour déterminer une stratégie, mais il est évident qu'on aurait pu analyser encore beaucoup d'autres paramètres.\n",
    "\n"
   ]
  }
 ],
 "metadata": {
  "kernelspec": {
   "display_name": "Python 3",
   "language": "python",
   "name": "python3"
  },
  "language_info": {
   "codemirror_mode": {
    "name": "ipython",
    "version": 3
   },
   "file_extension": ".py",
   "mimetype": "text/x-python",
   "name": "python",
   "nbconvert_exporter": "python",
   "pygments_lexer": "ipython3",
   "version": "3.7.1"
  }
 },
 "nbformat": 4,
 "nbformat_minor": 2
}
